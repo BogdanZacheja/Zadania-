{
 "cells": [
  {
   "cell_type": "markdown",
   "metadata": {},
   "source": [
    "# Zadanie 2\n"
   ]
  },
  {
   "cell_type": "markdown",
   "metadata": {},
   "source": [
    "* Stwórz zmienną:\n",
    "    * pierwszy_uczestnik, przypisz do niego wartość tekstową „Ania”\n",
    "    * drugi_uczestnik, przypisz do niego „Tomek”\n",
    "* Zamień miejscami uczestników\n",
    "    * W zmiennej pierwszy_uczestnik powinien być Tomek\n",
    "    * W zmiennej drugi_uczestnik powinna być Ania"
   ]
  },
  {
   "cell_type": "code",
   "execution_count": 86,
   "metadata": {
    "collapsed": false
   },
   "outputs": [
    {
     "name": "stdout",
     "output_type": "stream",
     "text": [
      "pierwszy: ania\n",
      "drugi: tomek\n"
     ]
    }
   ],
   "source": [
    "pierwszy = 'ania'\n",
    "drugi = 'tomek'\n",
    "print ('pierwszy:', pierwszy)\n",
    "print ('drugi:' , drugi)"
   ]
  },
  {
   "cell_type": "code",
   "execution_count": 87,
   "metadata": {
    "collapsed": false
   },
   "outputs": [
    {
     "name": "stdout",
     "output_type": "stream",
     "text": [
      "pierwszy: tomek\n",
      "drugi: ania\n"
     ]
    }
   ],
   "source": [
    "pamiec1 = pierwszy\n",
    "pamiec2 = drugi\n",
    "pierwszy = pamiec2\n",
    "drugi = pamiec1\n",
    "print ('pierwszy:', pierwszy)\n",
    "print ('drugi:' , drugi)\n"
   ]
  },
  {
   "cell_type": "markdown",
   "metadata": {},
   "source": [
    "# zadanie 3\n"
   ]
  },
  {
   "cell_type": "markdown",
   "metadata": {},
   "source": [
    "* Stwórz trzeci_uczestnik przypisz imię Wierzchosława\n",
    "* Sprawdź długość zmiennych tekstowych\n",
    "* Wylicz średnią długości liter\n",
    "* Wylicz medianę długości liter\n",
    "* Dodaj czwarty_uczestnik przypisz imię Ada"
   ]
  },
  {
   "cell_type": "code",
   "execution_count": 3,
   "metadata": {
    "collapsed": true
   },
   "outputs": [],
   "source": [
    "trzeci = 'Wierzchoslawa'"
   ]
  },
  {
   "cell_type": "code",
   "execution_count": 7,
   "metadata": {
    "collapsed": false
   },
   "outputs": [
    {
     "name": "stdout",
     "output_type": "stream",
     "text": [
      "5\n",
      "4\n",
      "13\n"
     ]
    }
   ],
   "source": [
    "print (len(pierwszy))\n",
    "print (len(drogi))\n",
    "print (len(trzeci))"
   ]
  },
  {
   "cell_type": "code",
   "execution_count": 13,
   "metadata": {
    "collapsed": true
   },
   "outputs": [],
   "source": [
    "uczestnicy = {'1pierwszy' : 'Tomek',\n",
    "              '2drugi' : 'Ania',\n",
    "              '3trzeci' : 'Wierzchoslawa'}"
   ]
  },
  {
   "cell_type": "code",
   "execution_count": 18,
   "metadata": {
    "collapsed": false,
    "scrolled": true
   },
   "outputs": [
    {
     "name": "stdout",
     "output_type": "stream",
     "text": [
      "5\n",
      "4\n",
      "13\n"
     ]
    }
   ],
   "source": [
    "print (len(uczestnicy['1pierwszy']))\n",
    "print (len(uczestnicy['2drugi']))\n",
    "print (len(uczestnicy['3trzeci']))"
   ]
  },
  {
   "cell_type": "markdown",
   "metadata": {},
   "source": [
    "### Średnia"
   ]
  },
  {
   "cell_type": "code",
   "execution_count": 30,
   "metadata": {
    "collapsed": false
   },
   "outputs": [],
   "source": [
    "uczestnicy_srednia = (len(pierwszy) + len(drugi) + len(trzeci))/3"
   ]
  },
  {
   "cell_type": "code",
   "execution_count": 31,
   "metadata": {
    "collapsed": false
   },
   "outputs": [
    {
     "name": "stdout",
     "output_type": "stream",
     "text": [
      "7.333333333333333\n"
     ]
    }
   ],
   "source": [
    "print (uczestnicy_srednia)"
   ]
  },
  {
   "cell_type": "markdown",
   "metadata": {},
   "source": [
    "### Mediana"
   ]
  },
  {
   "cell_type": "code",
   "execution_count": 6,
   "metadata": {
    "collapsed": false
   },
   "outputs": [],
   "source": [
    "uczestnicy_lista = ['Tomek', 'Ania', 'Wierzchoslawa', 'Ada', 'Basia', 'Adam' ]\n"
   ]
  },
  {
   "cell_type": "code",
   "execution_count": 7,
   "metadata": {
    "collapsed": false
   },
   "outputs": [
    {
     "name": "stdout",
     "output_type": "stream",
     "text": [
      "['Tomek', 'Ania', 'Wierzchoslawa', 'Ada', 'Basia', 'Adam']\n"
     ]
    }
   ],
   "source": [
    "print (uczestnicy_lista)"
   ]
  },
  {
   "cell_type": "code",
   "execution_count": 8,
   "metadata": {
    "collapsed": false
   },
   "outputs": [],
   "source": [
    "uczestnicy_lista.sort()"
   ]
  },
  {
   "cell_type": "code",
   "execution_count": 9,
   "metadata": {
    "collapsed": false
   },
   "outputs": [
    {
     "name": "stdout",
     "output_type": "stream",
     "text": [
      "['Ada', 'Adam', 'Ania', 'Basia', 'Tomek', 'Wierzchoslawa']\n"
     ]
    }
   ],
   "source": [
    "print (sorted(uczestnicy_lista))"
   ]
  },
  {
   "cell_type": "code",
   "execution_count": 10,
   "metadata": {
    "collapsed": false
   },
   "outputs": [
    {
     "name": "stdout",
     "output_type": "stream",
     "text": [
      "Ania Basia\n"
     ]
    }
   ],
   "source": [
    "if len(uczestnicy_lista) % 2 == 1:\n",
    "    print (uczestnicy_lista[len(uczestnicy_lista)// 2])\n",
    "else:\n",
    "    print (uczestnicy_lista[(len(uczestnicy_lista)// 2) -1], uczestnicy_lista[len(uczestnicy_lista)// 2 ]  )\n",
    "    "
   ]
  },
  {
   "cell_type": "markdown",
   "metadata": {},
   "source": [
    "# Zadanie 4"
   ]
  },
  {
   "cell_type": "markdown",
   "metadata": {},
   "source": [
    "* Utwórz zmienna imię ze swoim imieniem\n",
    "* Utwórz zmienną wzrost, waga które będą równe Twoim wskazania wzrostu i wagi albo kolegi / koleżanki \n",
    "* Napisz prosty kalkulator BMI\n",
    "* Wypisz na ekranie wartość BMI ze wskazaniem czy poniżej/ w normie / czy powyżej "
   ]
  },
  {
   "cell_type": "code",
   "execution_count": 12,
   "metadata": {
    "collapsed": false
   },
   "outputs": [
    {
     "name": "stdout",
     "output_type": "stream",
     "text": [
      "61.72839506172839\n",
      "Bogdan masz nadwagę\n"
     ]
    }
   ],
   "source": [
    "imie = 'Bogdan'\n",
    "wzrost = 1.80\n",
    "waga = 200\n",
    "bmi= waga / wzrost ** 2\n",
    "print (bmi)\n",
    "if bmi <= 18.5:\n",
    "    print (imie, \"masz niedowagę\")\n",
    "elif bmi > 18.5 and bmi < 25:\n",
    "    print (imie, \"masz prawidłową wagę\")\n",
    "elif bmi >= 25:\n",
    "    print (imie, \"masz nadwagę\")\n",
    "else:\n",
    "    print (\"ERROR\")"
   ]
  },
  {
   "cell_type": "markdown",
   "metadata": {},
   "source": [
    "# Zadanie 5\n"
   ]
  },
  {
   "cell_type": "markdown",
   "metadata": {},
   "source": [
    "* Określ zmienne logiczne czy_pada, czy_tydzien_pracy, czy_bankrut\n",
    "* Wiadomo, że człowiekowi jest fajnie wtedy, gdy:\n",
    "    * Nie pada deszcz/śnieg\n",
    "    * Jest weekend\n",
    "    * Nie jest bankrutem\n",
    "    * Utwórz zmienna czy_fajnie, która mówi czy człowiekowi jest fajnie \n",
    "* Zrób to bez użycia operacji **not**"
   ]
  },
  {
   "cell_type": "code",
   "execution_count": 150,
   "metadata": {
    "collapsed": false
   },
   "outputs": [
    {
     "name": "stdout",
     "output_type": "stream",
     "text": [
      "Jest fajnie\n"
     ]
    }
   ],
   "source": [
    "czy_pada = True\n",
    "czy_tydzien_pracy = True\n",
    "czy_bankrut = True\n",
    "czy_fajnie = czy_pada & czy_tydzien_pracy & czy_bankrut\n",
    "if czy_fajnie == True:\n",
    "    print (\"Jest fajnie\")\n",
    "elif czy_fajnie == False:\n",
    "    print (\"Nie jest Fajnie :(\")\n",
    "else:\n",
    "    print (\"ERROR\")\n",
    "    "
   ]
  },
  {
   "cell_type": "markdown",
   "metadata": {},
   "source": [
    "# Zadanie 6"
   ]
  },
  {
   "cell_type": "markdown",
   "metadata": {},
   "source": [
    "* Do zmiennej lista_kwadrat przypisz kwadrat liczb od 1 do 12\n",
    "* *Do zmiennej lista_kwadrat2 przypisz kwadrat liczb podzielnych przez 3 od 1 do 30\n",
    "* Wyświetl lista_kwadrat i lista_kwadrat2 "
   ]
  },
  {
   "cell_type": "code",
   "execution_count": 4,
   "metadata": {
    "collapsed": false,
    "scrolled": true
   },
   "outputs": [
    {
     "name": "stdout",
     "output_type": "stream",
     "text": [
      "lista liczb:  [1, 2, 3, 4, 5, 6, 7, 8, 9, 10, 11, 12]\n",
      "lista kwadatów:  [1, 4, 9, 16, 25, 36, 49, 64, 81, 100, 121, 144]\n",
      "lista kwadatów podzielnych przez 3 i mnienjszych niż 30:  [9]\n"
     ]
    }
   ],
   "source": [
    "lista_liczb = [liczba for liczba  in range(1,13)]\n",
    "\n",
    "lista_kwadrat = []\n",
    "for liczba in lista_liczb:\n",
    "    liczba = liczba ** 2\n",
    "    lista_kwadrat.append(liczba)\n",
    "    \n",
    "lista_kwadrat2 = []\n",
    "for liczba in lista_kwadrat:\n",
    "    if liczba % 3 == 0 and liczba < 30:\n",
    "        lista_kwadrat2.append(liczba)\n",
    "        \n",
    "print (\"lista liczb: \", lista_liczb)\n",
    "print (\"lista kwadatów: \", lista_kwadrat)\n",
    "print (\"lista kwadatów podzielnych przez 3 i mnienjszych niż 30: \", lista_kwadrat2)\n",
    "    \n",
    "    \n",
    "\n"
   ]
  },
  {
   "cell_type": "markdown",
   "metadata": {},
   "source": [
    "# Zadanie6* "
   ]
  },
  {
   "cell_type": "markdown",
   "metadata": {},
   "source": [
    "* Utwórz listę wzrostu uczestników\n",
    "* Utwórz listę wagi uczestników\n",
    "* Dzięki matplotlib narysuj wykres zależności"
   ]
  },
  {
   "cell_type": "code",
   "execution_count": 26,
   "metadata": {
    "collapsed": false,
    "scrolled": true
   },
   "outputs": [
    {
     "data": {
      "image/png": "[encoded data removed]",
      "text/plain": [
       "<matplotlib.figure.Figure at 0x7ffa28f66f98>"
      ]
     },
     "metadata": {},
     "output_type": "display_data"
    }
   ],
   "source": [
    "lista_wzrostu = [150,147,186,147,189,148,156,178,193,172,185]\n",
    "lista_wagi = [50,70,85,75,123,65,95,45,80,96,65]\n",
    "import matplotlib.pyplot as plt\n",
    "plt.scatter(lista_wzrostu,lista_wagi)\n",
    "plt.title(\"Zależność wagi od wzrostu\")\n",
    "plt.xlabel(\"Wzrost\")\n",
    "plt.ylabel(\"waga\")\n",
    "plt.show()\n"
   ]
  },
  {
   "cell_type": "markdown",
   "metadata": {},
   "source": [
    "# Zadanie 7"
   ]
  },
  {
   "cell_type": "markdown",
   "metadata": {},
   "source": [
    "* Napisz funkcję, która wyświetli oraz zwróci Twoje imię\n",
    "* Uruchom funkcję i przyrównaj wartość do None"
   ]
  },
  {
   "cell_type": "code",
   "execution_count": 43,
   "metadata": {
    "collapsed": true
   },
   "outputs": [],
   "source": [
    "def Twoje_imie (imie):\n",
    "    print (imie)\n",
    "    return imie"
   ]
  },
  {
   "cell_type": "code",
   "execution_count": 44,
   "metadata": {
    "collapsed": false
   },
   "outputs": [
    {
     "name": "stdout",
     "output_type": "stream",
     "text": [
      "Bogdan\n"
     ]
    },
    {
     "data": {
      "text/plain": [
       "'Bogdan'"
      ]
     },
     "execution_count": 44,
     "metadata": {},
     "output_type": "execute_result"
    }
   ],
   "source": [
    "Twoje_imie(\"Bogdan\")"
   ]
  },
  {
   "cell_type": "code",
   "execution_count": 45,
   "metadata": {
    "collapsed": false
   },
   "outputs": [
    {
     "ename": "NameError",
     "evalue": "name 'none' is not defined",
     "output_type": "error",
     "traceback": [
      "\u001b[0;31m---------------------------------------------------------------------------\u001b[0m",
      "\u001b[0;31mNameError\u001b[0m                                 Traceback (most recent call last)",
      "\u001b[0;32m<ipython-input-45-c8ec6b26f59a>\u001b[0m in \u001b[0;36m<module>\u001b[0;34m()\u001b[0m\n\u001b[0;32m----> 1\u001b[0;31m \u001b[0mTwoje_imie\u001b[0m\u001b[0;34m(\u001b[0m\u001b[0mnone\u001b[0m\u001b[0;34m)\u001b[0m\u001b[0;34m\u001b[0m\u001b[0m\n\u001b[0m",
      "\u001b[0;31mNameError\u001b[0m: name 'none' is not defined"
     ]
    }
   ],
   "source": [
    "Twoje_imie(none)"
   ]
  },
  {
   "cell_type": "markdown",
   "metadata": {},
   "source": [
    "# Zadanie 8"
   ]
  },
  {
   "cell_type": "markdown",
   "metadata": {},
   "source": [
    "* Dokonaj faktoryzacji kodu – kalkulatora BMI\n",
    "* Faktoryzacja ma polegać na stworzeniu funkcji \n",
    "* Dodatkowo funkcja ma wyświetlać komunikat np.:\n",
    " „Adam twoje bmi wynosi 29 i masz nadwagę”"
   ]
  },
  {
   "cell_type": "code",
   "execution_count": 59,
   "metadata": {
    "collapsed": false
   },
   "outputs": [],
   "source": [
    "def Kalkulator_bmi (imie, wzrost, waga):\n",
    "    bmi= waga / wzrost ** 2\n",
    "    print (imie, \" twoje bmi to: \", round(bmi))\n",
    "    if bmi <= 18.5:\n",
    "        print (imie,\" masz niedowagę\")\n",
    "    elif bmi > 18.5 and bmi < 25:\n",
    "        print (imie,\" masz prawidłową wagę\")\n",
    "    elif bmi >= 25:\n",
    "        print (imie, \"masz nadwagę\")\n",
    "    else:\n",
    "        print (\"ERROR\")"
   ]
  },
  {
   "cell_type": "code",
   "execution_count": 60,
   "metadata": {
    "collapsed": false
   },
   "outputs": [
    {
     "name": "stdout",
     "output_type": "stream",
     "text": [
      "Bogdan  twoje bmi to:  5\n",
      "Bogdan  masz niedowagę\n"
     ]
    }
   ],
   "source": [
    "Kalkulator_bmi(\"Bogdan\", 1.52,12)"
   ]
  },
  {
   "cell_type": "markdown",
   "metadata": {},
   "source": [
    "# Zadanie 9"
   ]
  },
  {
   "cell_type": "markdown",
   "metadata": {},
   "source": [
    "* Napisz funkcje suma_zarobkow, która dla podanego dzialu wyswietli srednia zarobkow dzialu np. \n",
    "    * „Srednia zarobkow dzialu: administracja wynosi 3273”\n",
    "    * Zaokrąglij do pełnych złotówek"
   ]
  },
  {
   "cell_type": "code",
   "execution_count": 7,
   "metadata": {
    "collapsed": false
   },
   "outputs": [],
   "source": [
    "import numpy as np\n",
    "def Suma_zarobków (dział):\n",
    "    srednia = np.mean(dział)\n",
    "    print (\"Średnia zarobków w dziale wynosi\", round(srednia,0))\n",
    "    "
   ]
  },
  {
   "cell_type": "code",
   "execution_count": 8,
   "metadata": {
    "collapsed": true
   },
   "outputs": [],
   "source": [
    "księgowość = [1546,1855,9856,4131,1458,1234]\n",
    "administracja = [1564,7851,3489,1486,4895,4857]"
   ]
  },
  {
   "cell_type": "code",
   "execution_count": 9,
   "metadata": {
    "collapsed": false
   },
   "outputs": [
    {
     "name": "stdout",
     "output_type": "stream",
     "text": [
      "Średnia zarobków w dziale wynosi 3347.0\n"
     ]
    }
   ],
   "source": [
    "Suma_zarobków(księgowość) "
   ]
  },
  {
   "cell_type": "markdown",
   "metadata": {},
   "source": [
    "# Zadanie 9*"
   ]
  },
  {
   "cell_type": "markdown",
   "metadata": {
    "collapsed": false
   },
   "source": [
    "* Użyj bibliotek numpy oraz matplotlib w celu wyrysowania rozkładu danych\n"
   ]
  },
  {
   "cell_type": "code",
   "execution_count": 60,
   "metadata": {
    "collapsed": false
   },
   "outputs": [
    {
     "data": {
      "image/png": "[encoded data removed]",
      "text/plain": [
       "<matplotlib.figure.Figure at 0x7ffa28e06e10>"
      ]
     },
     "metadata": {},
     "output_type": "display_data"
    }
   ],
   "source": [
    "import matplotlib.pyplot as plt\n",
    "import numpy as np\n",
    "x = np.arange(6)\n",
    "money = [1.5e5, 2.5e6, 5.5e6, 2.0e7]\n",
    "plt.pie(x, księgowość, label = \"księgowość\", color = 'b', )\n",
    "plt.bar(x, administracja, label = \"administracja\", color = 'g',)\n",
    "plt.legend()\n",
    "\n",
    "plt.show()\n"
   ]
  },
  {
   "cell_type": "markdown",
   "metadata": {},
   "source": [
    "# Zadanie 10**"
   ]
  },
  {
   "cell_type": "markdown",
   "metadata": {},
   "source": [
    "* Stwórz klasę student (imię, nazwisko, nr albumu, lista ocen, nieobecności)\n",
    "* Klasa powinna mieć metodę, która wylicza średnią studenta\n",
    "* Klasa powinna mieć metody które przedstawiają studenta w sposób:\n",
    "    *Student: Adam Nowak, index: 123456 ma średnią ocen:  3,65, jest studentem ze słabą/dobrą frekwencją\n",
    "* Przyjmujemy że student z dobrą frekwencją to taki co opuścił maksymalnie 2 zajęcia\n",
    "* Na podstawie średniej ocen dokonaj predykcji ilości dni opuszczonych przez studenta: jego oceny to: [3, 3, 3, 2]"
   ]
  },
  {
   "cell_type": "code",
   "execution_count": 99,
   "metadata": {
    "collapsed": false
   },
   "outputs": [],
   "source": [
    "class Student (object):\n",
    "    def __init__(self, imie, nazwisko, nr_albumu, lista_ocen, nieobecnosci):\n",
    "        self.imie = imie\n",
    "        self.nazwisko = nazwisko\n",
    "        self.nr_albumu = nr_albumu\n",
    "        self.lista_ocen = lista_ocen\n",
    "        self.nieobecnosci = nieobecnosci\n",
    "    \n",
    "    def srednia (self):\n",
    "        import numpy as np\n",
    "        print (np.mean(self.lista_ocen))\n",
    "    \n",
    "    def wyswietl (self):\n",
    "        print (\"Student: \", self.imie, self.nazwisko, \"indeex: \", self.nr_albumu, \n",
    "               \"srednia \", (np.mean(self.lista_ocen)), \"Nieobecności: \", self.nieobecnosci)\n",
    "        if self.nieobecnosci >= 2:\n",
    "            print (\"słaba frekwencja\")\n",
    "        elif self.nieobecnosci < 2:\n",
    "            print (\"dobra frekwencja\")\n",
    "        else:\n",
    "            print (\"ERROR\")\n",
    "            \n",
    "    def ferkwencja (self):\n",
    "        if np.mean(self.lista_ocen) < 3.0:\n",
    "            print (\"student:\", self.imie, \"ma prawdopodobnie słabą frekwencje\" )\n",
    "        elif np.mean(self.lista_ocen) > 3.0:\n",
    "            print (\"student:\", self.imie, \"ma prawdopodobnie dobrą frekwencje\" )\n",
    "        else:\n",
    "            print (\"ERROR\")\n",
    "        \n",
    "    "
   ]
  },
  {
   "cell_type": "code",
   "execution_count": 100,
   "metadata": {
    "collapsed": false
   },
   "outputs": [
    {
     "name": "stdout",
     "output_type": "stream",
     "text": [
      "4.8\n",
      "Student:  tomek kowalski indeex:  25412 srednia  4.8 Nieobecności:  3\n",
      "słaba frekwencja\n",
      "student: tomek ma prawdopodobnie dobrą frekwencje\n"
     ]
    }
   ],
   "source": [
    "tomek = Student(\"tomek\", \"kowalski\", \"25412\", [2, 5, 6, 4, 7], 3)\n",
    "tomek.srednia()\n",
    "tomek.wyswietl()\n",
    "tomek.ferkwencja ()"
   ]
  },
  {
   "cell_type": "markdown",
   "metadata": {},
   "source": [
    "# Zadanie 11**"
   ]
  },
  {
   "cell_type": "markdown",
   "metadata": {},
   "source": [
    "* Na podstawie funkcji 10\n",
    "* Stwórz funkcję która przyjmuje parametr ilosc studentow\n",
    "* Funkcja generuje studentow z losowymi danymi _Użyj paczki faker_\n",
    "* Funkcja zwraca listę obiektów"
   ]
  },
  {
   "cell_type": "code",
   "execution_count": 102,
   "metadata": {
    "collapsed": false
   },
   "outputs": [],
   "source": []
  },
  {
   "cell_type": "code",
   "execution_count": 103,
   "metadata": {
    "collapsed": false
   },
   "outputs": [
    {
     "ename": "AttributeError",
     "evalue": "'Student' object has no attribute 'ferkwencja123'",
     "output_type": "error",
     "traceback": [
      "\u001b[0;31m---------------------------------------------------------------------------\u001b[0m",
      "\u001b[0;31mAttributeError\u001b[0m                            Traceback (most recent call last)",
      "\u001b[0;32m<ipython-input-103-03e05660bfba>\u001b[0m in \u001b[0;36m<module>\u001b[0;34m()\u001b[0m\n\u001b[0;32m----> 1\u001b[0;31m \u001b[0mtomek\u001b[0m\u001b[0;34m.\u001b[0m\u001b[0mferkwencja123\u001b[0m \u001b[0;34m(\u001b[0m\u001b[0;34m)\u001b[0m\u001b[0;34m\u001b[0m\u001b[0m\n\u001b[0m",
      "\u001b[0;31mAttributeError\u001b[0m: 'Student' object has no attribute 'ferkwencja123'"
     ]
    }
   ],
   "source": []
  },
  {
   "cell_type": "code",
   "execution_count": null,
   "metadata": {
    "collapsed": true
   },
   "outputs": [],
   "source": []
  }
 ],
 "metadata": {
  "kernelspec": {
   "display_name": "Python 3",
   "language": "python",
   "name": "python3"
  },
  "language_info": {
   "codemirror_mode": {
    "name": "ipython",
    "version": 3
   },
   "file_extension": ".py",
   "mimetype": "text/x-python",
   "name": "python",
   "nbconvert_exporter": "python",
   "pygments_lexer": "ipython3",
   "version": "3.6.0"
  }
 },
 "nbformat": 4,
 "nbformat_minor": 2
}
