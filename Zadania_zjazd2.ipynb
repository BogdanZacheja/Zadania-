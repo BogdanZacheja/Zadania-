{
 "cells": [
  {
   "cell_type": "markdown",
   "metadata": {},
   "source": [
    "# Zadanie "
   ]
  },
  {
   "cell_type": "markdown",
   "metadata": {},
   "source": [
    "* Stworz klase Czlowiek,\n",
    "\n",
    "    * Czlowiek moze jesc, pic, spac\n",
    "\n",
    "    * Czlowiek ma parametry imie, nazwisko, wiek\n",
    "\n",
    "    * Dodatkowo parametry czy_najeczony, czy_wyspany, czy_spragniony\n",
    "\n",
    "\n",
    "\n",
    "* Stworz podklase CzlowiekNowoczesny\n",
    "\n",
    "    * Czlowiek nowoczesny dziedzizczy po Czlowiek,\n",
    "\n",
    "    * Dodatkowo ma:\n",
    "\n",
    "        * Konto na github\n",
    "\n",
    "        * Konto na FB\n",
    "\n",
    "        * Punkty doswiadczenia na StackOverflow\n",
    "\n",
    "    * Czlowiek nowoczesny ma metodę **programuj**, która zwiększa punkty doświadczenia \n",
    "\n",
    "    * Stworz property **czy_tamagotchi**\n",
    "\n",
    "    * Stworz property **czy_aktywny_w_scoial_mediach**\n"
   ]
  },
  {
   "cell_type": "code",
   "execution_count": 15,
   "metadata": {
    "collapsed": true
   },
   "outputs": [],
   "source": [
    "class Czlowiek ():\n",
    "    def __init__(self, imie, nazwisko, wiek, czy_wyspany, czy_najedzony, czy_spragniony):\n",
    "        self.imie = imie\n",
    "        self.nazwisko = nazwisko\n",
    "        self.wiek = wiek\n",
    "        self.czy_wyspany = czy_wyspany\n",
    "        self.czy_najedzony = czy_najedzony\n",
    "        self.czy_spragniony = czy_spragniony\n",
    "        \n",
    "   \n",
    "    \n",
    "    def spac(self):\n",
    "        self.czy_wyspany = True\n",
    "        \n",
    "    def jesc(self):\n",
    "        self.czy_najedzony = True\n",
    "        \n",
    "    def pic(self):\n",
    "        self.czy_spragniony = True\n",
    "\n",
    "class Czlowiek_nowoczesny (Czlowiek):\n",
    "    def __init__(self, imie, nazwisko, wiek, czy_wyspany, czy_najedzony, czy_spragniony, \n",
    "            czy_github, czy_fb, punkty_stack):\n",
    "        super().__init__(imie, nazwisko, wiek, czy_wyspany, czy_najedzony, czy_spragniony) \n",
    "                     \n",
    "        self.czy_github = czy_github\n",
    "        self.czy_fb = czy_fb\n",
    "        self.punkty_stack = punkty_stack\n",
    "        \n",
    "    def programuj (self):\n",
    "        print ('programuje')\n",
    "        self.punkty_stack = self.punkty_stack + 10\n",
    "        \n",
    "    def czy_tamagotchi (self):\n",
    "        if self.czy_wyspany == True and czy_najedzony == True and czy_spragniony == True:\n",
    "            print ('{} jest tamagotchi'.format(self.imie))\n",
    "        else:\n",
    "            print ('{} NIE jest tamagotchi'.format(self.imie))\n",
    "            \n",
    "    def czy_aktywny_socjalmedia (self):\n",
    "        if self.czy_fb == True:\n",
    "            print ('{} jest w sojcjal mediach'.format(self.imie))\n",
    "        else:\n",
    "            print ('{} NIEjest w sojcjal mediach'.format(self.imie))"
   ]
  },
  {
   "cell_type": "code",
   "execution_count": 16,
   "metadata": {
    "collapsed": true
   },
   "outputs": [],
   "source": [
    "adam = Czlowiek('Adam', 'Kowalski', 25, False, False, False,)"
   ]
  },
  {
   "cell_type": "code",
   "execution_count": 17,
   "metadata": {
    "collapsed": false
   },
   "outputs": [
    {
     "data": {
      "text/plain": [
       "False"
      ]
     },
     "execution_count": 17,
     "metadata": {},
     "output_type": "execute_result"
    }
   ],
   "source": [
    "adam.czy_najedzony"
   ]
  },
  {
   "cell_type": "code",
   "execution_count": 18,
   "metadata": {
    "collapsed": true
   },
   "outputs": [],
   "source": [
    "adam.jesc()\n",
    "adam.pic()"
   ]
  },
  {
   "cell_type": "code",
   "execution_count": 19,
   "metadata": {
    "collapsed": false
   },
   "outputs": [
    {
     "data": {
      "text/plain": [
       "True"
      ]
     },
     "execution_count": 19,
     "metadata": {},
     "output_type": "execute_result"
    }
   ],
   "source": [
    "adam.czy_najedzony"
   ]
  },
  {
   "cell_type": "code",
   "execution_count": 20,
   "metadata": {
    "collapsed": false
   },
   "outputs": [
    {
     "data": {
      "text/plain": [
       "True"
      ]
     },
     "execution_count": 20,
     "metadata": {},
     "output_type": "execute_result"
    }
   ],
   "source": [
    "adam.czy_spragniony"
   ]
  },
  {
   "cell_type": "code",
   "execution_count": 21,
   "metadata": {
    "collapsed": true
   },
   "outputs": [],
   "source": [
    "tomek = Czlowiek_nowoczesny('Tomek', 'Nowak', 32, False, False, False, True, True, 1504)"
   ]
  },
  {
   "cell_type": "code",
   "execution_count": 22,
   "metadata": {
    "collapsed": false
   },
   "outputs": [
    {
     "data": {
      "text/plain": [
       "True"
      ]
     },
     "execution_count": 22,
     "metadata": {},
     "output_type": "execute_result"
    }
   ],
   "source": [
    "tomek.czy_fb"
   ]
  },
  {
   "cell_type": "code",
   "execution_count": 23,
   "metadata": {
    "collapsed": false
   },
   "outputs": [
    {
     "data": {
      "text/plain": [
       "1504"
      ]
     },
     "execution_count": 23,
     "metadata": {},
     "output_type": "execute_result"
    }
   ],
   "source": [
    "tomek.punkty_stack"
   ]
  },
  {
   "cell_type": "code",
   "execution_count": 24,
   "metadata": {
    "collapsed": false
   },
   "outputs": [
    {
     "name": "stdout",
     "output_type": "stream",
     "text": [
      "programuje\n"
     ]
    }
   ],
   "source": [
    "tomek.programuj()"
   ]
  },
  {
   "cell_type": "code",
   "execution_count": 25,
   "metadata": {
    "collapsed": false
   },
   "outputs": [
    {
     "data": {
      "text/plain": [
       "1514"
      ]
     },
     "execution_count": 25,
     "metadata": {},
     "output_type": "execute_result"
    }
   ],
   "source": [
    "tomek.punkty_stack"
   ]
  },
  {
   "cell_type": "code",
   "execution_count": 26,
   "metadata": {
    "collapsed": false
   },
   "outputs": [
    {
     "name": "stdout",
     "output_type": "stream",
     "text": [
      "Tomek NIE jest tamagotchi\n"
     ]
    }
   ],
   "source": [
    "tomek.czy_tamagotchi()"
   ]
  },
  {
   "cell_type": "code",
   "execution_count": 27,
   "metadata": {
    "collapsed": false
   },
   "outputs": [
    {
     "name": "stdout",
     "output_type": "stream",
     "text": [
      "Tomek jest w sojcjal mediach\n"
     ]
    }
   ],
   "source": [
    "tomek.czy_aktywny_socjalmedia()"
   ]
  },
  {
   "cell_type": "code",
   "execution_count": null,
   "metadata": {
    "collapsed": true
   },
   "outputs": [],
   "source": []
  }
 ],
 "metadata": {
  "kernelspec": {
   "display_name": "Python 3",
   "language": "python",
   "name": "python3"
  },
  "language_info": {
   "codemirror_mode": {
    "name": "ipython",
    "version": 3
   },
   "file_extension": ".py",
   "mimetype": "text/x-python",
   "name": "python",
   "nbconvert_exporter": "python",
   "pygments_lexer": "ipython3",
   "version": "3.6.0"
  }
 },
 "nbformat": 4,
 "nbformat_minor": 2
}
